{
 "cells": [
  {
   "cell_type": "markdown",
   "metadata": {},
   "source": [
    "# LOGISTIC REGRESSION FROM SCRATCH"
   ]
  },
  {
   "cell_type": "code",
   "execution_count": 97,
   "metadata": {},
   "outputs": [],
   "source": [
    "import numpy as np"
   ]
  },
  {
   "cell_type": "code",
   "execution_count": 98,
   "metadata": {},
   "outputs": [],
   "source": [
    "class LogisticRegression:\n",
    "    #taking default values of learning rate and number of iterations in gradient descend \n",
    "    def __init__(self , lr = 0.001 , n_iters = 1000):\n",
    "        self.n_iters = n_iters\n",
    "        self.lr = lr \n",
    "        self.weights = None\n",
    "        self.bias = None\n",
    "    \n",
    "    #fit method - X is a matrix with number of rows equal to number of samples and number of columns equal to number of\n",
    "    # features of each sample and y is a row vector with dimension equal to number of samples\n",
    "    def fit(self , X , Y):\n",
    "        n_samples , n_features = X.shape\n",
    "        #taking value of weights and bias as zero \n",
    "        self.weights = np.zeros(n_features)\n",
    "        self.bias = 0\n",
    "        \n",
    "        \n",
    "        \n",
    "        # Gradient Descend \n",
    "        for _ in range(self.n_iters):\n",
    "            #defining a linear model as in logistic regression \n",
    "            linear_model = np.dot(X , self.weights.T) + self.bias\n",
    "            #sigmod function for the model\n",
    "            y_hat = self.sigmoid(linear_model)\n",
    "\n",
    "            #derivative of cost function wrt weight matrix and taking sum over all training examples and dw in this case will\n",
    "            #be a vector \n",
    "            dw = ((1 / n_samples) * (np.dot(np.diag((y_hat - Y)) , X).sum(axis = 0)))\n",
    "            #bias \n",
    "            db = (1 / n_samples) * ((y_hat - Y).sum(axis = 0))\n",
    "            #updation step \n",
    "            self.weights -= self.lr * dw\n",
    "            self.bias -= self.lr * db \n",
    "        \n",
    "    def predict(self , X , threshold = 0.5):\n",
    "            linear_model = np.dot(X , self.weights.T) + self.bias\n",
    "            #predicted value on testing set (PROBABILITY)\n",
    "            y_predicted = self.sigmoid(linear_model)    \n",
    "            y_predicted_class = [1 if i > threshold else 0 for i in y_predicted]\n",
    "            return y_predicted_class\n",
    "    \n",
    "    def accuracy(self , y_test , y_predicted):\n",
    "        acc_of_model = ((np.sum(y_test == y_predicted)) / len(y_test))\n",
    "        return (acc_of_model)\n",
    "    \n",
    "    \n",
    "    #defining the sigmoid for logistics regression \n",
    "    def sigmoid(self , x):\n",
    "        return 1/(1 + np.exp(-x))\n",
    "        \n",
    "        "
   ]
  },
  {
   "cell_type": "markdown",
   "metadata": {},
   "source": [
    "# TEST SCRIPT USING REAL DATASET \n"
   ]
  },
  {
   "cell_type": "code",
   "execution_count": 99,
   "metadata": {},
   "outputs": [],
   "source": [
    "from sklearn.model_selection import train_test_split\n",
    "from sklearn import datasets\n"
   ]
  },
  {
   "cell_type": "code",
   "execution_count": 100,
   "metadata": {},
   "outputs": [],
   "source": [
    "breast_cancer = datasets.load_breast_cancer()"
   ]
  },
  {
   "cell_type": "code",
   "execution_count": 101,
   "metadata": {},
   "outputs": [],
   "source": [
    "X , y = breast_cancer.data , breast_cancer.target "
   ]
  },
  {
   "cell_type": "code",
   "execution_count": 102,
   "metadata": {},
   "outputs": [],
   "source": [
    "x_train , x_test , y_train , y_test = train_test_split(X , y , test_size = 0.2 , random_state = 123)"
   ]
  },
  {
   "cell_type": "code",
   "execution_count": 103,
   "metadata": {},
   "outputs": [],
   "source": [
    "regressor = LogisticRegression(lr = 0.0001 , n_iters = 1000)\n"
   ]
  },
  {
   "cell_type": "code",
   "execution_count": 104,
   "metadata": {},
   "outputs": [],
   "source": [
    "regressor.fit(x_train , y_train)"
   ]
  },
  {
   "cell_type": "code",
   "execution_count": 105,
   "metadata": {},
   "outputs": [],
   "source": [
    "\n",
    "predicted = regressor.predict(x_test)"
   ]
  },
  {
   "cell_type": "code",
   "execution_count": 106,
   "metadata": {},
   "outputs": [
    {
     "data": {
      "text/plain": [
       "0.9473684210526315"
      ]
     },
     "execution_count": 106,
     "metadata": {},
     "output_type": "execute_result"
    }
   ],
   "source": [
    "regressor.accuracy(y_test , predicted)"
   ]
  },
  {
   "cell_type": "code",
   "execution_count": null,
   "metadata": {},
   "outputs": [],
   "source": []
  }
 ],
 "metadata": {
  "kernelspec": {
   "display_name": "Python 3",
   "language": "python",
   "name": "python3"
  },
  "language_info": {
   "codemirror_mode": {
    "name": "ipython",
    "version": 3
   },
   "file_extension": ".py",
   "mimetype": "text/x-python",
   "name": "python",
   "nbconvert_exporter": "python",
   "pygments_lexer": "ipython3",
   "version": "3.7.7"
  }
 },
 "nbformat": 4,
 "nbformat_minor": 4
}
